{
 "cells": [
  {
   "cell_type": "code",
   "execution_count": null,
   "metadata": {},
   "outputs": [],
   "source": [
    "!pip install opencv-python\n",
    "!pip install numpy\n",
    "!pip install imageio"
   ]
  },
  {
   "cell_type": "code",
   "execution_count": 1,
   "metadata": {},
   "outputs": [],
   "source": [
    "import cv2  \n",
    "import numpy as np\n",
    "import imageio\n",
    "def displayChar(s):\n",
    "    if s >=1 and s <= 9:\n",
    "        return str(s)\n",
    "    else:\n",
    "        return ''\n",
    "\n",
    "def visualize(frames,frame_length, gif_filename):\n",
    "    animation = [] #อนิมเมชัน คือ array(list) ของภาพนิ่ง\n",
    "    width = 500\n",
    "    height = 800\n",
    "    for i in range(len(frames)):\n",
    "        state = frames[i]\n",
    "        image = np.zeros((height,width,3),np.uint8) + 255\n",
    "   \n",
    "        # Window name in which image is displayed \n",
    "        \n",
    "        color = (0,0, 0)  # แก้สีที่นี่\n",
    "        thickness = 9\n",
    "        #วาดตารางด้วย opencv\n",
    "        image = cv2.line(image, (100, 100), (100, 400), color, thickness) \n",
    "        image = cv2.line(image, (200, 100), (200, 400), color, thickness) \n",
    "        image = cv2.line(image, (300, 100), (300, 400), color, thickness) \n",
    "        image = cv2.line(image, (400, 100), (400, 400), color, thickness) \n",
    "\n",
    "\n",
    "        image = cv2.line(image, (100, 100), (400, 100), color, thickness) \n",
    "        image = cv2.line(image, (100, 200), (400, 200), color, thickness) \n",
    "        image = cv2.line(image, (100, 300), (400, 300), color, thickness) \n",
    "        image = cv2.line(image, (100, 400), (400, 400), color, thickness) \n",
    "        \n",
    "        font = cv2.FONT_HERSHEY_SIMPLEX \n",
    "        color = (0,0, 255)  #rgb ฟ้า\n",
    "        fontScale = 3\n",
    "        thickness = 7\n",
    "        #วาดเลข 1-9  displayChar ใช้เพื่อเปลี่ยนเลข 0 เป็น ข้อความว่าง\n",
    "        image = cv2.putText(image, displayChar(state['board'][0][0]), (120,180), font,  fontScale, color, thickness, cv2.LINE_AA) \n",
    "        image = cv2.putText(image, displayChar(state['board'][0][1]), (220,180), font,  fontScale, color, thickness, cv2.LINE_AA) \n",
    "        image = cv2.putText(image, displayChar(state['board'][0][2]), (320,180), font,  fontScale, color, thickness, cv2.LINE_AA) \n",
    "\n",
    "        image = cv2.putText(image, displayChar(state['board'][1][0]), (120,280), font,  fontScale, color, thickness, cv2.LINE_AA) \n",
    "        image = cv2.putText(image, displayChar(state['board'][1][1]), (220,280), font,  fontScale, color, thickness, cv2.LINE_AA) \n",
    "        image = cv2.putText(image, displayChar(state['board'][1][2]), (320,280), font,  fontScale, color, thickness, cv2.LINE_AA) \n",
    "\n",
    "        image = cv2.putText(image, displayChar(state['board'][2][0]), (120,380), font,  fontScale, color, thickness, cv2.LINE_AA) \n",
    "        image = cv2.putText(image, displayChar(state['board'][2][1]), (220,380), font,  fontScale, color, thickness, cv2.LINE_AA) \n",
    "        image = cv2.putText(image, displayChar(state['board'][2][2]), (320,380), font,  fontScale, color, thickness, cv2.LINE_AA) \n",
    "        \n",
    "        fontScale2 = 1\n",
    "        thickness2 = 1\n",
    "        color2 = (0,0, 255)  #rgb แดง\n",
    "        image = cv2.putText(image, state['caption1'], (100,480), font,  1, color2, 1, cv2.LINE_AA) \n",
    "        image = cv2.putText(image, state['caption2'], (100,560), font,  1, color2, 1, cv2.LINE_AA) \n",
    "        image = cv2.putText(image, state['caption3'], (100,680), font,  1, color2, 1, cv2.LINE_AA) \n",
    "        image = cv2.putText(image, state['caption4'], (100,780), font,  1, color2, 1, cv2.LINE_AA) \n",
    "        image = image.astype(np.uint8)\n",
    "        \n",
    "        animation.append(image)\n",
    "    imageio.mimsave(gif_filename, animation,duration=frame_length) #เขียน gif ไฟล์"
   ]
  },
  {
   "cell_type": "code",
   "execution_count": 2,
   "metadata": {},
   "outputs": [],
   "source": [
    "#ตัวอย่างการสร้าง states ของ eight puzzle\n",
    "#superai engineer ทุกท่านสามารแก้โค้ดด้วยการทำ dfs และเก็บ state, caption1,caption2,caption3,caption4　ใน list ที่ต้องการทำ animation\n",
    "#แก้เป็น OOP?\n",
    "frames = []\n",
    "\n",
    "for i in range(100):\n",
    "    state = {}\n",
    "    if i%2 == 0 :\n",
    "        state['board'] = np.array([5,6,7,4,0,8,3,2,1]).reshape(3,3)\n",
    "    else:\n",
    "        state['board'] = np.array([5,6,7,0,4,8,3,2,1]).reshape(3,3)\n",
    "    state['caption1'] = \"step = {} \".format(i) \n",
    "    state['caption2'] = \"depth = -9999 \"\n",
    "    state['caption3'] = \"\"\n",
    "    state['caption4'] = \"\"\n",
    "    frames.append(state)"
   ]
  },
  {
   "cell_type": "code",
   "execution_count": 3,
   "metadata": {
    "scrolled": false
   },
   "outputs": [],
   "source": [
    "vdo_filename = 'output.gif'\n",
    "frame_length = 1.5 #เพิ่มเพื่อทำให้อนิเมชันช้าลง และลดเพื่อให้เร็วขึ้น\n",
    "visualize(frames, frame_length , vdo_filename) #ต้องมีพื้นที่ harddisk เหลือและไพธอนมีสิทธ์เขียนไฟล์ใน directory ที่ทำงานอยู่"
   ]
  },
  {
   "cell_type": "code",
   "execution_count": 4,
   "metadata": {},
   "outputs": [
    {
     "data": {
      "text/html": [
       "<img src= 'output.gif'>\n"
      ],
      "text/plain": [
       "<IPython.core.display.HTML object>"
      ]
     },
     "metadata": {},
     "output_type": "display_data"
    }
   ],
   "source": [
    "%%HTML\n",
    "<img src= 'output.gif'>"
   ]
  },
  {
   "cell_type": "code",
   "execution_count": null,
   "metadata": {},
   "outputs": [],
   "source": []
  },
  {
   "cell_type": "code",
   "execution_count": null,
   "metadata": {},
   "outputs": [],
   "source": []
  },
  {
   "cell_type": "code",
   "execution_count": null,
   "metadata": {},
   "outputs": [],
   "source": []
  }
 ],
 "metadata": {
  "kernelspec": {
   "display_name": "Python 3",
   "language": "python",
   "name": "python3"
  },
  "language_info": {
   "codemirror_mode": {
    "name": "ipython",
    "version": 3
   },
   "file_extension": ".py",
   "mimetype": "text/x-python",
   "name": "python",
   "nbconvert_exporter": "python",
   "pygments_lexer": "ipython3",
   "version": "3.7.4"
  }
 },
 "nbformat": 4,
 "nbformat_minor": 2
}
